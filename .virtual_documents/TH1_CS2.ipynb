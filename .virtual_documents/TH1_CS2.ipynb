#W1A1 
'''int: so nguyen
float: so thuc 
bool: logic (True - False)
str: string (chuoi, xau... NGUYEN VAN A,...)
int a;
'''
#comment line here

a = 7     #python khong khai bao kieu du lieu cho bien, ma tu dong chon dung kieu phu hop
b = 5
c = a - b
print(type(a), c, sep = '=====', end = '\t')#Kieu du lieu cua a la gi
print(a)

#sep mac dinh la dau cach
#end mac dinh la enter (xuong dong

#GOI Y CUA CHATGPT

a = 7        # Gán giá trị 7 cho biến a
b = 5        # Gán giá trị 5 cho biến b
c = a - b    # Lấy giá trị của a trừ đi giá trị của b, rồi gán kết quả cho biến c
print(c)     # In ra giá trị của biến c ra màn hình



#W1A2
city = "Ha Noi" # 'Ha Noi'- Chuoi trong cap nhay don hoac nhay ghep, chuoi gom nhieu ki tu lien tiep hoac 
                # chi mot ki tu, khong co ki tu nao ""
year =  2025
print("Thanh Pho", city, "- Nam", year)# Thanh Pho Ha Noi - Nam 2025
print(type(city))
print(type(False))
print(type(9.7))




