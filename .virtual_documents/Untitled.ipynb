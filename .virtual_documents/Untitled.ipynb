#Nối 2 file F1, F2 thành file F3
#in ca 3 file ra màn hình

