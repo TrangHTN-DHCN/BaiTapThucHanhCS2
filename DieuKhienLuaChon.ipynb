{
 "cells": [
  {
   "cell_type": "code",
   "execution_count": 1,
   "id": "365e8490-aa9a-446a-95e8-ff7ec01207ad",
   "metadata": {},
   "outputs": [
    {
     "name": "stdin",
     "output_type": "stream",
     "text": [
      " Troi mua\n"
     ]
    },
    {
     "name": "stdout",
     "output_type": "stream",
     "text": [
      "Troi khong dep lam\n"
     ]
    }
   ],
   "source": [
    "s = input()\n",
    "if s == \"Troi nang\":\n",
    "    print(s)\n",
    "else:\n",
    "    print (\"Troi khong dep lam\")"
   ]
  },
  {
   "cell_type": "code",
   "execution_count": 3,
   "id": "b8efa478-c28d-4690-9a7e-35ff9eaff595",
   "metadata": {},
   "outputs": [
    {
     "name": "stdin",
     "output_type": "stream",
     "text": [
      " 2 3\n"
     ]
    },
    {
     "name": "stdout",
     "output_type": "stream",
     "text": [
      "3\n"
     ]
    }
   ],
   "source": [
    "a, b = map(int, input().split())\n",
    "if a > b:\n",
    "    print (a)\n",
    "else:\n",
    "    print(b)"
   ]
  },
  {
   "cell_type": "code",
   "execution_count": 6,
   "id": "8493d0ca-66f9-4b45-a9a0-9ca887fcdfce",
   "metadata": {},
   "outputs": [
    {
     "name": "stdin",
     "output_type": "stream",
     "text": [
      " 3 4 5\n"
     ]
    },
    {
     "name": "stdout",
     "output_type": "stream",
     "text": [
      "Chu vi la: 12.00\n",
      " Dien tich la: 6.00\n"
     ]
    }
   ],
   "source": [
    "# Nhap vao 3 so thuc a, b, c\n",
    "# Kiem tra xem no co phai 3 canh cua mot tam giac khong\n",
    "# Neu dung thi tinh chu vi, dien tich roi in ra man hinha\n",
    "import math as mt\n",
    "a, b, c = map(float, input().split())\n",
    "\n",
    "if (a + b > c and a + c > b and b + c > a and a > 0 and b > 0 and c > 0):\n",
    "    P_all = a + b + c\n",
    "    P = P_all/2\n",
    "    S = mt.sqrt(P*(P-a)*(P-b)*(P-c))\n",
    "    print(f'Chu vi la: {P_all:.2f}\\n Dien tich la: {S:.2f}')\n"
   ]
  },
  {
   "cell_type": "code",
   "execution_count": null,
   "id": "f3a62af0-c4a7-40b4-9e99-9616edcda005",
   "metadata": {},
   "outputs": [],
   "source": [
    "# Nhap vao ngay/thang/nam theo dung dinh dang\n",
    "# Kiem tra do co phai la ngay hop le khong\n",
    "# 29/2/2001 - invalid\n",
    "# 29/2/2000 - valid\n",
    "# 30/6/2000 - valid\n",
    "# 31/6/2002 - invalid\n",
    "# ngay < 1 - invalid, ngay > ngay toi da trong thang - invalid\n",
    "# thang khong thuoc [1, 12] - invalid\n",
    "# nam khong thuoc [1900, 2100] - invalid\n",
    "# 12/2/2000\n",
    "# Nam nhuan: (chia het cho 4 nhung khong chia het cho 100) HOẶC (chia het 400)\n",
    "\n",
    "\n"
   ]
  }
 ],
 "metadata": {
  "kernelspec": {
   "display_name": "Python 3 (ipykernel)",
   "language": "python",
   "name": "python3"
  },
  "language_info": {
   "codemirror_mode": {
    "name": "ipython",
    "version": 3
   },
   "file_extension": ".py",
   "mimetype": "text/x-python",
   "name": "python",
   "nbconvert_exporter": "python",
   "pygments_lexer": "ipython3",
   "version": "3.11.9"
  }
 },
 "nbformat": 4,
 "nbformat_minor": 5
}
