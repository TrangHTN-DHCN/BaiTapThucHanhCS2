{
 "cells": [
  {
   "cell_type": "code",
   "execution_count": 1,
   "id": "365e8490-aa9a-446a-95e8-ff7ec01207ad",
   "metadata": {},
   "outputs": [
    {
     "name": "stdin",
     "output_type": "stream",
     "text": [
      " Troi mua\n"
     ]
    },
    {
     "name": "stdout",
     "output_type": "stream",
     "text": [
      "Troi khong dep lam\n"
     ]
    }
   ],
   "source": [
    "s = input()\n",
    "if s == \"Troi nang\":\n",
    "    print(s)\n",
    "else:\n",
    "    print (\"Troi khong dep lam\")"
   ]
  },
  {
   "cell_type": "code",
   "execution_count": 2,
   "id": "b8efa478-c28d-4690-9a7e-35ff9eaff595",
   "metadata": {},
   "outputs": [
    {
     "name": "stdin",
     "output_type": "stream",
     "text": [
      " 10 20\n"
     ]
    },
    {
     "name": "stdout",
     "output_type": "stream",
     "text": [
      "20\n"
     ]
    }
   ],
   "source": [
    "a, b = map(int, input().split())\n",
    "if a > b:\n",
    "    print (a)\n",
    "else:\n",
    "    print(b)"
   ]
  }
 ],
 "metadata": {
  "kernelspec": {
   "display_name": "Python 3 (ipykernel)",
   "language": "python",
   "name": "python3"
  },
  "language_info": {
   "codemirror_mode": {
    "name": "ipython",
    "version": 3
   },
   "file_extension": ".py",
   "mimetype": "text/x-python",
   "name": "python",
   "nbconvert_exporter": "python",
   "pygments_lexer": "ipython3",
   "version": "3.11.9"
  }
 },
 "nbformat": 4,
 "nbformat_minor": 5
}
