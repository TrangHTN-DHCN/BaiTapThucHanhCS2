{
 "cells": [
  {
   "cell_type": "code",
   "execution_count": null,
   "id": "365e8490-aa9a-446a-95e8-ff7ec01207ad",
   "metadata": {},
   "outputs": [],
   "source": [
    "s = input()\n",
    "if s == \"Troi nang\":\n",
    "    print(s)\n",
    "else:\n",
    "    print (\"Troi khong dep lam\")"
   ]
  }
 ],
 "metadata": {
  "kernelspec": {
   "display_name": "Python 3 (ipykernel)",
   "language": "python",
   "name": "python3"
  },
  "language_info": {
   "codemirror_mode": {
    "name": "ipython",
    "version": 3
   },
   "file_extension": ".py",
   "mimetype": "text/x-python",
   "name": "python",
   "nbconvert_exporter": "python",
   "pygments_lexer": "ipython3",
   "version": "3.11.9"
  }
 },
 "nbformat": 4,
 "nbformat_minor": 5
}
