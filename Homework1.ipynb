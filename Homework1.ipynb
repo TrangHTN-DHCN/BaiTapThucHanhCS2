{
 "cells": [
  {
   "cell_type": "code",
   "execution_count": null,
   "id": "2e5474fa-6085-4f65-9c50-19108f6b020f",
   "metadata": {},
   "outputs": [],
   "source": [
    "1000: 8\n",
    "0111: 7\n"
   ]
  },
  {
   "cell_type": "code",
   "execution_count": 39,
   "id": "f4d0dd4d-d810-445a-9238-3185b0e60b7a",
   "metadata": {},
   "outputs": [
    {
     "name": "stdin",
     "output_type": "stream",
     "text": [
      "Nhap vao tuoi cua ban:  18\n"
     ]
    },
    {
     "name": "stdout",
     "output_type": "stream",
     "text": [
      "Nguoi lon\n"
     ]
    }
   ],
   "source": [
    "tuoi = int(input(\"Nhap vao tuoi cua ban: \"))\n",
    "\n",
    "# if(tuoi < 13):\n",
    "#     print(\"Tre con\")\n",
    "# elif : \n",
    "#     print(\"Thieu nien\")\n",
    "# else:\n",
    "#     print(\"Nguoi lon\")\n",
    "print(\"Tre con\" if (tuoi< 13) else (\"Thanh Nien\" if (tuoi < 18)  else \"Nguoi lon\"))"
   ]
  },
  {
   "cell_type": "code",
   "execution_count": 35,
   "id": "764f3411-2f50-4cab-8655-5afd39bff5a7",
   "metadata": {},
   "outputs": [
    {
     "name": "stdin",
     "output_type": "stream",
     "text": [
      "nhap vao mot so nguyen:  1345\n"
     ]
    },
    {
     "name": "stdout",
     "output_type": "stream",
     "text": [
      "YES\n"
     ]
    }
   ],
   "source": [
    "# Bai1: su dung phep chia du 2 so sanh voi 1 => so chan hay so le\n",
    "# Bai 2: su dung phep chia du cho 10 se duoc so hang don vi\n",
    "\n",
    "n = int(input(\"nhap vao mot so nguyen: \"))\n",
    "\n",
    "print(\"YES\" if (n%10 == 5) else \"NO\")\n",
    "\n",
    "# if(n % 10 == 5):\n",
    "#     print(\"YES\")\n",
    "# else: \n",
    "#     print(\"NO\")\n",
    "    \n"
   ]
  },
  {
   "cell_type": "code",
   "execution_count": 34,
   "id": "dd4a3245-7b30-4291-9d6c-3812e4b07d12",
   "metadata": {},
   "outputs": [
    {
     "name": "stdin",
     "output_type": "stream",
     "text": [
      "Ten chu ho:  Nguyen Xuan Hoa\n",
      "Chi so cuoi thang truoc:  2000\n",
      "Chi so thang nay:  2538\n"
     ]
    },
    {
     "name": "stdout",
     "output_type": "stream",
     "text": [
      "Ho va ten: Nguyen Xuan Hoa\n",
      "Tien phai tra la: 1676138\n"
     ]
    }
   ],
   "source": [
    "# Bai 8: Tinh tien dien cho nha ban nao do:\n",
    "# Từ 0 – 50kWh: 1.984 đồng/kWh  \n",
    "# - Bậc 2: Từ 51 – 100 kWh: 2.050 đồng/kWh  \n",
    "# - Bậc 3: Từ 101 – 200 kWh: 2.380 đồng/kWh  \n",
    "# - Bậc 4: Từ 201 – 300 kWh: 2.998 đồng/kWh  \n",
    "# - Bậc 5: Từ 301 – 400 kWh: 3.350 đồng/kWh  \n",
    "# - Bậc 6: Từ 401 trở đi kWh: 3.460 đồng/kWh \n",
    "ten_chu_ho = input(\"Ten chu ho: \")\n",
    "cs_thang_truoc = int(input(\"Chi so cuoi thang truoc: \"))\n",
    "cs_thang_nay = int(input(\"Chi so thang nay: \"))\n",
    "\n",
    "so_KW = cs_thang_nay - cs_thang_truoc\n",
    "total_money = 0\n",
    "#Loc tu tren xuong\n",
    "if(so_KW > 400):\n",
    "    total_money += (so_KW - 400)*3460\n",
    "    so_KW = 400\n",
    "if(so_KW > 300):\n",
    "    total_money += (so_KW  - 300)*3350\n",
    "    so_KW = 300\n",
    "if(so_KW > 200):\n",
    "    total_money += (so_KW - 200)*2998\n",
    "    so_KW = 200\n",
    "if(so_KW > 100):\n",
    "    total_money += (so_KW  - 100)*2380\n",
    "    so_KW = 100\n",
    "if(so_KW > 50):\n",
    "    total_money += (so_KW  - 50)*2050\n",
    "    so_KW = 50  \n",
    "total_money += so_KW*1984\n",
    "total_money = total_money *108/100\n",
    "\n",
    "print(f\"Ho va ten: {ten_chu_ho}\")\n",
    "print(f'Tien phai tra la: {total_money:.0f}')\n",
    "\n"
   ]
  },
  {
   "cell_type": "code",
   "execution_count": 30,
   "id": "35e8ca04-7ed4-4e5b-830c-8518a589d80f",
   "metadata": {},
   "outputs": [
    {
     "name": "stdin",
     "output_type": "stream",
     "text": [
      " toi so troi mua to vi so ngap\n"
     ]
    },
    {
     "name": "stdout",
     "output_type": "stream",
     "text": [
      "s\n",
      "r\n",
      "p\n"
     ]
    }
   ],
   "source": [
    "# Bai 7: \n",
    "text = input()\n",
    "n = len(text) #text[0], text[1], ...., text[n - 1] == text[-1]\n",
    "if(n >= 20):\n",
    "    print(text[4], text[8], sep = '\\n')\n",
    "else:\n",
    "    print(\"Nhap sai du lieu roi!\")"
   ]
  },
  {
   "cell_type": "code",
   "execution_count": 27,
   "id": "f3f4b704-a6ab-4cfd-ac47-589fe03e1987",
   "metadata": {},
   "outputs": [
    {
     "name": "stdin",
     "output_type": "stream",
     "text": [
      "  5 6 7\n"
     ]
    },
    {
     "name": "stdout",
     "output_type": "stream",
     "text": [
      "Dien tich tam giac: 14.7\n",
      "Chu vi tam giac: 18.0\n"
     ]
    }
   ],
   "source": [
    "# Bai 5:  De qua tu lam\n",
    "# Bai 6: Nhập vào 3 số a, b, c. Kiểm tra xem đây có phải là cạnh của 1 tam giác không, \n",
    "# nếu đúng thì tính diện tích của tam giác đó, in ra với 1 chữ số phần thập phân, nếu nó \n",
    "# không phải 3 cạnh của tam giác thì in ra “Khong phai 3 canh cua tam giac”\n",
    "a, b, c = map(float, input().split())\n",
    "if(a + b > c and c + b > a and c + a > b):\n",
    "    P = (a + b + c)/2\n",
    "    S = P * (P - a) * (P -b) * (P -c)\n",
    "    S = S ** 0.5\n",
    "    print(f'Dien tich tam giac: {S:.1f}\\nChu vi tam giac: {P*2:.1f}')"
   ]
  },
  {
   "cell_type": "code",
   "execution_count": 23,
   "id": "3c8ba589-dbe4-4cd1-ae9f-cf8aaf0eb850",
   "metadata": {},
   "outputs": [
    {
     "name": "stdin",
     "output_type": "stream",
     "text": [
      "Moi ban nhap MOT ki tu:  G\n"
     ]
    },
    {
     "name": "stdout",
     "output_type": "stream",
     "text": [
      "G la ki tu alphabet\n"
     ]
    }
   ],
   "source": [
    "# Bai 4: Viết chương trình nhập vào một “kí tự”, Kiểm tra xem c có phải là kí tự chữ cái \n",
    "# không (hoa hoặc thường). Nếu đúng thì in ra “{c} là kí tu alphabet”, nếu sai in ra “{c} \n",
    "# không phải là kí tự alphabet.\n",
    "\n",
    "c = input('Moi ban nhap MOT ki tu: ')\n",
    "if(len(c) == 1):\n",
    "    if(c.isalpha()):\n",
    "        print(f'{c} la ki tu alphabet')\n",
    "    else:\n",
    "        print(f'{c} khong phai la ki tu alphabet')\n",
    "else:\n",
    "    print(f\"'{c}' Khong phai mot ki tu\")"
   ]
  },
  {
   "cell_type": "code",
   "execution_count": 17,
   "id": "2f6bb580-c45b-4f1f-b493-d27d3c968c28",
   "metadata": {},
   "outputs": [
    {
     "name": "stdin",
     "output_type": "stream",
     "text": [
      " G\n"
     ]
    },
    {
     "name": "stdout",
     "output_type": "stream",
     "text": [
      "g\n"
     ]
    }
   ],
   "source": [
    "# Bai 3: Viết chương trình nhập vào một “kí tự” c, nếu nó là chữ hoa thì in ra chữ thường \n",
    "# tương ứng và ngược lại nếu nó là chữ thường thì in ra chữ hoa tương ứng của nó. (xem \n",
    "# trước cấu trúc lựa chọn: if….else,\n",
    "ch = input()\n",
    "if(len(ch) == 1):\n",
    "    if(ch.isupper()):\n",
    "        # ch_lo = chr(ord(ch) + 32)\n",
    "        ch_lo = ch.lower()\n",
    "        print(ch_lo)\n",
    "    else: \n",
    "        # ch_up = chr(ord(ch) - 32)\n",
    "        ch_up = ch.upper()\n",
    "        print(ch_up)\n",
    "else:\n",
    "    print(\"Ban nhap khong phai 1 ki tu!!!\")\n",
    "\n",
    "# >, <, <=, >=, !=, == (so sanh bang), and, or, not\n",
    "# \":=\"    : phep gan trong bieu thuc dieu kien"
   ]
  },
  {
   "cell_type": "code",
   "execution_count": 15,
   "id": "1df5b863-93c7-46da-8c6c-6700a6a5f2d5",
   "metadata": {},
   "outputs": [
    {
     "name": "stdout",
     "output_type": "stream",
     "text": [
      "a\n"
     ]
    }
   ],
   "source": [
    "print(chr(97))"
   ]
  },
  {
   "cell_type": "code",
   "execution_count": 24,
   "id": "2e332421-349c-4c1d-bc0c-dc99de5d804c",
   "metadata": {},
   "outputs": [
    {
     "name": "stdout",
     "output_type": "stream",
     "text": [
      "Help on class map in module builtins:\n",
      "\n",
      "class map(object)\n",
      " |  map(func, *iterables) --> map object\n",
      " |  \n",
      " |  Make an iterator that computes the function using arguments from\n",
      " |  each of the iterables.  Stops when the shortest iterable is exhausted.\n",
      " |  \n",
      " |  Methods defined here:\n",
      " |  \n",
      " |  __getattribute__(self, name, /)\n",
      " |      Return getattr(self, name).\n",
      " |  \n",
      " |  __iter__(self, /)\n",
      " |      Implement iter(self).\n",
      " |  \n",
      " |  __next__(self, /)\n",
      " |      Implement next(self).\n",
      " |  \n",
      " |  __reduce__(...)\n",
      " |      Return state information for pickling.\n",
      " |  \n",
      " |  ----------------------------------------------------------------------\n",
      " |  Static methods defined here:\n",
      " |  \n",
      " |  __new__(*args, **kwargs)\n",
      " |      Create and return a new object.  See help(type) for accurate signature.\n",
      "\n",
      "None\n"
     ]
    }
   ],
   "source": [
    "import builtins\n",
    "# print(dir(builtins))\n",
    "print(help(map))"
   ]
  },
  {
   "cell_type": "code",
   "execution_count": 4,
   "id": "fc94eb2a-074f-4e67-a993-6cd5a8409dc6",
   "metadata": {},
   "outputs": [
    {
     "name": "stdin",
     "output_type": "stream",
     "text": [
      " 3 4\n"
     ]
    },
    {
     "name": "stdout",
     "output_type": "stream",
     "text": [
      "4.935\n"
     ]
    }
   ],
   "source": [
    "# Nhập vào a, b. Hãy tính phần \n",
    "# diện tích còn để trồng cây xung quanh là bao nhiêu. Biết pi = 3.14, lấy kết quả đến 2 \n",
    "# chữ số phần thập phân\n",
    "pi = 3.14\n",
    "a, b = map(float, input().split()) # \"23 45\"\n",
    "remain_area = a*b - (a*a*pi)/4\n",
    "print(remain_area)\n",
    "\n",
    "# text = \"nguyen hoang anh\"\n",
    "# print(text.split(), sep = '\\t')"
   ]
  },
  {
   "cell_type": "code",
   "execution_count": 2,
   "id": "cc2290ec-0b0a-4080-a59a-03c6ddab71c8",
   "metadata": {},
   "outputs": [
    {
     "name": "stdin",
     "output_type": "stream",
     "text": [
      "Moi nhap so nguyen:  500\n"
     ]
    },
    {
     "name": "stdout",
     "output_type": "stream",
     "text": [
      "1000\n"
     ]
    }
   ],
   "source": [
    "# Bai 1: Nhap so nguyen n, in ra so gap doi n\n",
    "n = int(input(\"Moi nhap so nguyen: \"))\n",
    "print(n * 2)\n",
    "# +, -, *, //, /, %, **"
   ]
  }
 ],
 "metadata": {
  "kernelspec": {
   "display_name": "Python 3 (ipykernel)",
   "language": "python",
   "name": "python3"
  },
  "language_info": {
   "codemirror_mode": {
    "name": "ipython",
    "version": 3
   },
   "file_extension": ".py",
   "mimetype": "text/x-python",
   "name": "python",
   "nbconvert_exporter": "python",
   "pygments_lexer": "ipython3",
   "version": "3.11.9"
  }
 },
 "nbformat": 4,
 "nbformat_minor": 5
}
