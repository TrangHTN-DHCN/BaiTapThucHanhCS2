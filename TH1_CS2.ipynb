{
 "cells": [
  {
   "cell_type": "code",
   "execution_count": 9,
   "id": "52c1d8af-9e5d-4d58-8b24-f0d608fb8681",
   "metadata": {},
   "outputs": [
    {
     "name": "stdout",
     "output_type": "stream",
     "text": [
      "<class 'int'>=====2\t7\n"
     ]
    }
   ],
   "source": [
    "#W1A1 \n",
    "'''int: so nguyen\n",
    "float: so thuc \n",
    "bool: logic (True - False)\n",
    "str: string (chuoi, xau... NGUYEN VAN A,...)\n",
    "int a;\n",
    "'''\n",
    "#comment line here\n",
    "\n",
    "a = 7     #python khong khai bao kieu du lieu cho bien, ma tu dong chon dung kieu phu hop\n",
    "b = 5\n",
    "c = a - b\n",
    "print(type(a), c, sep = '=====', end = '\\t')#Kieu du lieu cua a la gi\n",
    "print(a)\n",
    "\n",
    "#sep mac dinh la dau cach\n",
    "#end mac dinh la enter (xuong dong\n",
    "\n",
    "#GOI Y CUA CHATGPT\n",
    "\n",
    "a = 7        # Gán giá trị 7 cho biến a\n",
    "b = 5        # Gán giá trị 5 cho biến b\n",
    "c = a - b    # Lấy giá trị của a trừ đi giá trị của b, rồi gán kết quả cho biến c\n",
    "print(c)     # In ra giá trị của biến c ra màn hình\n"
   ]
  },
  {
   "cell_type": "code",
   "execution_count": 13,
   "id": "f430e45f-5603-41cb-a18d-114d2c7a31f1",
   "metadata": {},
   "outputs": [
    {
     "name": "stdout",
     "output_type": "stream",
     "text": [
      "Thanh Pho Ha Noi - Nam 2025\n",
      "<class 'str'>\n",
      "<class 'bool'>\n",
      "<class 'float'>\n"
     ]
    }
   ],
   "source": [
    "#W1A2\n",
    "city = \"Ha Noi\" # 'Ha Noi'- Chuoi trong cap nhay don hoac nhay ghep, chuoi gom nhieu ki tu lien tiep hoac \n",
    "                # chi mot ki tu, khong co ki tu nao \"\"\n",
    "year =  2025\n",
    "print(\"Thanh Pho\", city, \"- Nam\", year)# Thanh Pho Ha Noi - Nam 2025\n",
    "print(type(city))\n",
    "print(type(False))\n",
    "print(type(9.7))\n"
   ]
  },
  {
   "cell_type": "code",
   "execution_count": null,
   "id": "adfead03-a369-4739-beed-cdfae0400cd1",
   "metadata": {},
   "outputs": [],
   "source": []
  }
 ],
 "metadata": {
  "kernelspec": {
   "display_name": "Python 3 (ipykernel)",
   "language": "python",
   "name": "python3"
  },
  "language_info": {
   "codemirror_mode": {
    "name": "ipython",
    "version": 3
   },
   "file_extension": ".py",
   "mimetype": "text/x-python",
   "name": "python",
   "nbconvert_exporter": "python",
   "pygments_lexer": "ipython3",
   "version": "3.11.9"
  }
 },
 "nbformat": 4,
 "nbformat_minor": 5
}
