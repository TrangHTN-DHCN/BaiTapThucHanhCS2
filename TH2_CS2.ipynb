{
 "cells": [
  {
   "cell_type": "code",
   "execution_count": 2,
   "id": "d9baa252-032f-4ba4-86ca-71d34ee23e73",
   "metadata": {},
   "outputs": [
    {
     "name": "stdout",
     "output_type": "stream",
     "text": [
      "Hello World!\n"
     ]
    }
   ],
   "source": [
    "#W2A1\n",
    "print(\"Hello World!\")"
   ]
  },
  {
   "cell_type": "code",
   "execution_count": 8,
   "id": "27b0518a-c84d-4a7a-b7f5-f27e193d057d",
   "metadata": {},
   "outputs": [
    {
     "name": "stdin",
     "output_type": "stream",
     "text": [
      " Nguyen Minh Chung\n"
     ]
    },
    {
     "name": "stdout",
     "output_type": "stream",
     "text": [
      "Xin chao ban Nguyen Minh Chung\n"
     ]
    }
   ],
   "source": [
    "#W2A2\n",
    "'''\n",
    "a = input() #mac dinh la chuoi\n",
    "b = input()\n",
    "c = a + b #Phep cong tren 2 chuoi ki tu\n",
    "print(c) # ket qua la mot chuoi\n",
    "'''\n",
    "\n",
    "'''\n",
    "so1 = int(input()) #nhap tung so tren mot hang\n",
    "so2 = int(input())\n",
    "tong = so1 + so2\n",
    "print(tong)\n",
    "\n",
    "so1, so2 = map(int, input().split()) #Nhap 2 so tren 1 dong\n",
    "tong = so1 + so2\n",
    "print(tong)\n",
    "'''\n",
    "name = input()\n",
    "print(\"Xin chao ban\", name)\n"
   ]
  },
  {
   "cell_type": "code",
   "execution_count": 16,
   "id": "7a6f1b7e-2716-47f5-8e87-c7f6220cfeb5",
   "metadata": {},
   "outputs": [
    {
     "name": "stdin",
     "output_type": "stream",
     "text": [
      " 5 2\n"
     ]
    },
    {
     "name": "stdout",
     "output_type": "stream",
     "text": [
      "5 + 2 = 7\n",
      "5 - 2 = 3\n",
      "5 * 2 = 10\n",
      "5 / 2 = 2.5000\n",
      "5 // 2 = 2\n",
      "5 % 2 = 1\n"
     ]
    }
   ],
   "source": [
    "#W2A3\n",
    "a, b = map(int, input().split()) \n",
    "print(f'{a} + {b} = {a+b}')\n",
    "print(f'{a} - {b} = {a-b}')\n",
    "print(f'{a} * {b} = {a*b}')\n",
    "print(f'{a} / {b} = {a/b:.4f}')\n",
    "print(f'{a} // {b} = {a//b}')\n",
    "print(f'{a} % {b} = {a%b}')"
   ]
  },
  {
   "cell_type": "code",
   "execution_count": 17,
   "id": "1832cbe1-dcf5-4247-ac5e-662d570a4019",
   "metadata": {},
   "outputs": [
    {
     "name": "stdin",
     "output_type": "stream",
     "text": [
      " 8 7 9 10 10 9 \n"
     ]
    },
    {
     "name": "stdout",
     "output_type": "stream",
     "text": [
      "9.1\n"
     ]
    }
   ],
   "source": [
    "#W2A4 - Tinh diem trung binh cua 6 dau diem\n",
    "\n",
    "a1, b1, c1, a2, b2, a3 = map(int, input().split())\n",
    "Tb = (a1 + b1 + c1 + (a2 + b2) *2 + a3 * 3)/10\n",
    "\n",
    "print(f'{Tb:.1f}')"
   ]
  },
  {
   "cell_type": "code",
   "execution_count": 18,
   "id": "de024492-ea14-44cf-a653-bbec59eccb0d",
   "metadata": {},
   "outputs": [
    {
     "name": "stdin",
     "output_type": "stream",
     "text": [
      " 2 3\n"
     ]
    },
    {
     "name": "stdout",
     "output_type": "stream",
     "text": [
      "8\n"
     ]
    }
   ],
   "source": [
    "#W2A5 - \n",
    "\n",
    "a, b = map(int, input().split())\n",
    "print(f'{a**b}')"
   ]
  },
  {
   "cell_type": "code",
   "execution_count": 22,
   "id": "e3ae2c0a-e5ba-4a76-ad0e-cb0667c4e653",
   "metadata": {},
   "outputs": [
    {
     "name": "stdout",
     "output_type": "stream",
     "text": [
      "97 65\n"
     ]
    },
    {
     "name": "stdin",
     "output_type": "stream",
     "text": [
      " e\n"
     ]
    },
    {
     "name": "stdout",
     "output_type": "stream",
     "text": [
      "69 E\n",
      "Ϩ\n"
     ]
    }
   ],
   "source": [
    "#W2A6 - \n",
    "#s = input()\n",
    "#print(s.upper())\n",
    "\n",
    "print (ord('a'), ord('A'))\n",
    "\n",
    "s2 = input()\n",
    "s2 = ord(s2) - 32 ## Trong bang ma 'a' = 97, 'b' = 98......, 'z' = 122, 'A' = 65 \n",
    "\n",
    "print(s2, chr(s2))\n",
    "print(chr(1000))\n"
   ]
  },
  {
   "cell_type": "code",
   "execution_count": 23,
   "id": "a726a40f-1c5c-4516-8338-4d741966cb59",
   "metadata": {},
   "outputs": [
    {
     "name": "stdin",
     "output_type": "stream",
     "text": [
      " 28\n"
     ]
    },
    {
     "name": "stdout",
     "output_type": "stream",
     "text": [
      "82.40\n"
     ]
    }
   ],
   "source": [
    "C = float (input())\n",
    "F = (9/5)*C  + 32\n",
    "print(f'{F:.2f}')"
   ]
  },
  {
   "cell_type": "code",
   "execution_count": null,
   "id": "0d74c29f-1fed-4032-99b0-c6a9c030111c",
   "metadata": {},
   "outputs": [],
   "source": []
  }
 ],
 "metadata": {
  "kernelspec": {
   "display_name": "Python 3 (ipykernel)",
   "language": "python",
   "name": "python3"
  },
  "language_info": {
   "codemirror_mode": {
    "name": "ipython",
    "version": 3
   },
   "file_extension": ".py",
   "mimetype": "text/x-python",
   "name": "python",
   "nbconvert_exporter": "python",
   "pygments_lexer": "ipython3",
   "version": "3.11.9"
  }
 },
 "nbformat": 4,
 "nbformat_minor": 5
}
