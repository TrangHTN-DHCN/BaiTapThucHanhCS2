{
 "cells": [
  {
   "cell_type": "code",
   "execution_count": 9,
   "id": "2c7e31cd-3c33-4200-a370-693ee1b20350",
   "metadata": {},
   "outputs": [
    {
     "name": "stdin",
     "output_type": "stream",
     "text": [
      "Nhap vao mot so nguyen duong:  er\n"
     ]
    },
    {
     "ename": "ValueError",
     "evalue": "invalid literal for int() with base 10: 'er'",
     "output_type": "error",
     "traceback": [
      "\u001b[31m---------------------------------------------------------------------------\u001b[39m",
      "\u001b[31mValueError\u001b[39m                                Traceback (most recent call last)",
      "\u001b[36mCell\u001b[39m\u001b[36m \u001b[39m\u001b[32mIn[9]\u001b[39m\u001b[32m, line 3\u001b[39m\n\u001b[32m      1\u001b[39m \u001b[38;5;66;03m# Bai 1\u001b[39;00m\n\u001b[32m      2\u001b[39m \u001b[38;5;66;03m# Tinh tong cac so nguyen tu 1 den n\u001b[39;00m\n\u001b[32m----> \u001b[39m\u001b[32m3\u001b[39m n = \u001b[38;5;28;43mint\u001b[39;49m\u001b[43m(\u001b[49m\u001b[38;5;28;43minput\u001b[39;49m\u001b[43m(\u001b[49m\u001b[33;43m'\u001b[39;49m\u001b[33;43mNhap vao mot so nguyen duong: \u001b[39;49m\u001b[33;43m'\u001b[39;49m\u001b[43m)\u001b[49m\u001b[43m)\u001b[49m\n\u001b[32m      4\u001b[39m Sum = \u001b[32m0\u001b[39m\n\u001b[32m      5\u001b[39m \u001b[38;5;28;01mfor\u001b[39;00m i \u001b[38;5;129;01min\u001b[39;00m \u001b[38;5;28mrange\u001b[39m(\u001b[32m1\u001b[39m, n+\u001b[32m1\u001b[39m, \u001b[32m1\u001b[39m):\n",
      "\u001b[31mValueError\u001b[39m: invalid literal for int() with base 10: 'er'"
     ]
    }
   ],
   "source": [
    "# Bai 1\n",
    "# Tinh tong cac so nguyen tu 1 den n\n",
    "n = int(input('Nhap vao mot so nguyen duong: '))\n",
    "Sum = 0\n",
    "for i in range(1, n+1, 1):\n",
    "    print(i, end = ' ')\n",
    "    Sum += i\n",
    "print(f'\\n{Sum}')\n"
   ]
  },
  {
   "cell_type": "markdown",
   "id": "ed444e76-b534-4099-ad0d-af82e872edcb",
   "metadata": {},
   "source": [
    "# 0 1 2 3 4 = 10\n",
    "# nếu range có 1 tham số: stop (start mặc định là 0, step: 1)\n",
    "# nếu range có 2 tham số: start và stop (step: 1)\n",
    "# nếu range có 3 tham số: start, stop và step "
   ]
  },
  {
   "cell_type": "code",
   "execution_count": 10,
   "id": "5c645f30-5125-4225-9fa0-b66c0d4c997c",
   "metadata": {},
   "outputs": [
    {
     "name": "stdin",
     "output_type": "stream",
     "text": [
      "Nhap vao mot so nguyen duong:  df\n"
     ]
    },
    {
     "name": "stdout",
     "output_type": "stream",
     "text": [
      "Ban nhap khong phai la mot so nguyen\n"
     ]
    }
   ],
   "source": [
    "# Bai 1: Bat lôi nhap lieu\n",
    "\n",
    "try:\n",
    "    n = int(input('Nhap vao mot so nguyen duong: '))\n",
    "    if(n > 0):\n",
    "        Sum = 0\n",
    "        for i in range(1, n+1, 1):\n",
    "            print(i, end = ' ')\n",
    "            Sum += i\n",
    "        print(f'\\n{Sum}')\n",
    "    else:\n",
    "        print(\"Nhap so am mat roi\")\n",
    "except ValueError:\n",
    "    print('Ban nhap khong phai la mot so nguyen')\n"
   ]
  },
  {
   "cell_type": "markdown",
   "id": "e42873ee-5315-4e76-8453-74cd13bf15d1",
   "metadata": {},
   "source": [
    "try:\n",
    "    khoi lenh thuc thi\n",
    "except [loi]:\n",
    "    khoi lenh thuc thi khi gap loi"
   ]
  },
  {
   "cell_type": "code",
   "execution_count": 17,
   "id": "e1786704-0aa3-4a4f-97ea-d5feebba0cde",
   "metadata": {},
   "outputs": [
    {
     "name": "stdin",
     "output_type": "stream",
     "text": [
      "Nhap mot so duong, neu am nhap lai!:  d\n"
     ]
    },
    {
     "name": "stdout",
     "output_type": "stream",
     "text": [
      "Ban nhap khong phai la mot so nguyen roi!\n"
     ]
    },
    {
     "ename": "SystemExit",
     "evalue": "",
     "output_type": "error",
     "traceback": [
      "An exception has occurred, use %tb to see the full traceback.\n",
      "\u001b[31mSystemExit\u001b[39m\n"
     ]
    },
    {
     "name": "stderr",
     "output_type": "stream",
     "text": [
      "C:\\Users\\AD\\AppData\\Local\\Packages\\PythonSoftwareFoundation.Python.3.11_qbz5n2kfra8p0\\LocalCache\\local-packages\\Python311\\site-packages\\IPython\\core\\interactiveshell.py:3707: UserWarning: To exit: use 'exit', 'quit', or Ctrl-D.\n",
      "  warn(\"To exit: use 'exit', 'quit', or Ctrl-D.\", stacklevel=1)\n"
     ]
    }
   ],
   "source": [
    "# Bai 2:\n",
    "# Nhap mot so den khi duoc mot so nguyen duong thi thoi,\n",
    "import math as  mt\n",
    "\n",
    "n = 0\n",
    "try:\n",
    "    for _ in range(1000):\n",
    "        n = int(input('Nhap mot so duong, neu am nhap lai!: '))\n",
    "        if(n > 0):\n",
    "            break\n",
    "    print(n)\n",
    "except ValueError:\n",
    "    print('Ban nhap khong phai la mot so nguyen roi!')\n",
    "\n",
    "# # Kiem tra xem so do co phai la so nguyen to khong?\n",
    "# cnt = 0 #dem so uoc cua n\n",
    "# for i in range (1, n+1):\n",
    "#     if(n % i == 0):\n",
    "#         cnt += 1\n",
    "\n",
    "# if(cnt == 2):\n",
    "#     print('Day la so nguyen to')\n",
    "# else: \n",
    "#     print('Day la Hop so')\n",
    "\n",
    "Chi can n chia het cho 1 trong cac so tu [2, can bac hai cua n] thi n la HOP SO\n",
    "\n",
    "flag = True\n",
    "for i in range (2, int(mt.sqrt(n)) + 1):\n",
    "    if(n % i == 0): #Chi can chia het cho 1 so thi no la HOP SO roi\n",
    "        flag = False\n",
    "        break\n",
    "if(flag == True):\n",
    "    print('{n} la so nguyen to')\n",
    "\n",
    "\n",
    "\n",
    "\n"
   ]
  },
  {
   "cell_type": "markdown",
   "id": "83d82192-1f3b-4894-a206-3cf6181ae194",
   "metadata": {},
   "source": [
    "2: 1 2 (so nguyen to nho nhat)\n",
    "3: 1 3 (so nguyen to)\n",
    "13: 1 13\n",
    "9: 1 3 9\n",
    "28: 1 2 4    7 14 28 (Trung binh nhan cua no la diem giua nen la n se chia het cho mot trong\n",
    "cac so tu 2 den <= TB nhan - căn bậc hai của nó)\n",
    "14: 2 7\n"
   ]
  }
 ],
 "metadata": {
  "kernelspec": {
   "display_name": "Python 3 (ipykernel)",
   "language": "python",
   "name": "python3"
  },
  "language_info": {
   "codemirror_mode": {
    "name": "ipython",
    "version": 3
   },
   "file_extension": ".py",
   "mimetype": "text/x-python",
   "name": "python",
   "nbconvert_exporter": "python",
   "pygments_lexer": "ipython3",
   "version": "3.11.9"
  }
 },
 "nbformat": 4,
 "nbformat_minor": 5
}
