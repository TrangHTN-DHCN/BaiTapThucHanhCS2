{
 "cells": [
  {
   "cell_type": "code",
   "execution_count": 1,
   "id": "25eb5661-397b-4530-ae17-2f0b0ba72d44",
   "metadata": {},
   "outputs": [
    {
     "name": "stdin",
     "output_type": "stream",
     "text": [
      " 12\n"
     ]
    },
    {
     "name": "stdout",
     "output_type": "stream",
     "text": [
      "24\n"
     ]
    }
   ],
   "source": [
    "# Nhập số nguyên n, in ra số gấp đôi n\n",
    "n = int(input())\n",
    "print(n*2)\n",
    "\n"
   ]
  },
  {
   "cell_type": "code",
   "execution_count": 3,
   "id": "af636753-c4de-485b-9828-d78f2620f99a",
   "metadata": {},
   "outputs": [
    {
     "name": "stdin",
     "output_type": "stream",
     "text": [
      " 23 67\n"
     ]
    },
    {
     "name": "stdout",
     "output_type": "stream",
     "text": [
      "dien tich con lai: 1125.73\n"
     ]
    }
   ],
   "source": [
    "a, b = map(float, input().split())\n",
    "pi = 3.14\n",
    "total_area = a*b\n",
    "play_area = a*a*pi/4\n",
    "print(f'dien tich con lai: {total_area - play_area:.2f}')\n"
   ]
  },
  {
   "cell_type": "code",
   "execution_count": 7,
   "id": "045678c5-b2d0-4ce3-86d1-494ed70088a7",
   "metadata": {},
   "outputs": [
    {
     "name": "stdin",
     "output_type": "stream",
     "text": [
      " a\n"
     ]
    },
    {
     "name": "stdout",
     "output_type": "stream",
     "text": [
      "A\n"
     ]
    }
   ],
   "source": [
    "s = input()\n",
    "if s.islower():\n",
    "    s = s.upper()\n",
    "elif s.isupper():\n",
    "    s = s.lower()\n",
    "print(s)"
   ]
  },
  {
   "cell_type": "code",
   "execution_count": null,
   "id": "b2d74bf7-8c35-4c62-a904-8c77c4f689f7",
   "metadata": {},
   "outputs": [],
   "source": [
    "# assert <điều_kiện>, \"Thông báo\"\n",
    "# Nếu điều kiện = True → chương trình chạy tiếp, không báo gì cả.\n",
    "    \n",
    "def chia(a, b):\n",
    "    assert b != 0, \"Không được chia cho 0\"\n",
    "    return a / b\n",
    "\n",
    "print(chia(10, 2))  # 5.0\n",
    "print(chia(10, 0))  # AssertionError: Không được chia cho 0\n"
   ]
  },
  {
   "cell_type": "code",
   "execution_count": 14,
   "id": "5fb1cfee-dd4f-45b2-a050-3326fca2a6e2",
   "metadata": {},
   "outputs": [
    {
     "name": "stdin",
     "output_type": "stream",
     "text": [
      " F\n"
     ]
    },
    {
     "name": "stdout",
     "output_type": "stream",
     "text": [
      "f\n"
     ]
    }
   ],
   "source": [
    "s = input()\n",
    "assert (len(s) == 1 and s.isupper()), \"khong phai ki tu HOA\"\n",
    "t = chr(ord(s) + 32)\n",
    "print(t)"
   ]
  },
  {
   "cell_type": "code",
   "execution_count": null,
   "id": "adec6183-2ad8-419e-af20-35aa24269612",
   "metadata": {},
   "outputs": [],
   "source": []
  }
 ],
 "metadata": {
  "kernelspec": {
   "display_name": "Python 3 (ipykernel)",
   "language": "python",
   "name": "python3"
  },
  "language_info": {
   "codemirror_mode": {
    "name": "ipython",
    "version": 3
   },
   "file_extension": ".py",
   "mimetype": "text/x-python",
   "name": "python",
   "nbconvert_exporter": "python",
   "pygments_lexer": "ipython3",
   "version": "3.11.9"
  }
 },
 "nbformat": 4,
 "nbformat_minor": 5
}
