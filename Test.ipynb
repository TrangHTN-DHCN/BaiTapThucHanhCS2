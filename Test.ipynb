{
 "cells": [
  {
   "cell_type": "code",
   "execution_count": 1,
   "id": "46629385-ce54-483e-96b7-a6d308c8744b",
   "metadata": {},
   "outputs": [
    {
     "name": "stdout",
     "output_type": "stream",
     "text": [
      "Hom nay troi mua bao qua\n"
     ]
    }
   ],
   "source": [
    "print('Hom nay troi mua bao qua')"
   ]
  },
  {
   "cell_type": "code",
   "execution_count": null,
   "id": "cb6c6d5b",
   "metadata": {},
   "outputs": [],
   "source": [
    "lst = map(int, input().split())\n",
    "k = int(input())\n",
    "\n",
    "def isSumDigitEqualTok(x: int, k: int) -> bool:\n",
    "    m = 0\n",
    "    while x > 0:\n",
    "        print(x, end = ' ')\n",
    "        m += x%10\n",
    "        x //= 10\n",
    "    return (m == k)\n",
    "\n",
    "for i, x in enumerate(lst):\n",
    "    if isSumDigitEqualTok(x,k):\n",
    "        print(x, end = ' ')"
   ]
  },
  {
   "cell_type": "code",
   "execution_count": 1,
   "id": "25eb5661-397b-4530-ae17-2f0b0ba72d44",
   "metadata": {},
   "outputs": [
    {
     "name": "stdout",
     "output_type": "stream",
     "text": [
      " 12\n"
     ]
    },
    {
     "name": "stdout",
     "output_type": "stream",
     "text": [
      "24\n"
     ]
    }
   ],
   "source": [
    "# Bai 1: Nhập số nguyên n, in ra số gấp đôi n\n",
    "n = int(input())\n",
    "print(n*2)\n",
    "\n"
   ]
  },
  {
   "cell_type": "code",
   "execution_count": 3,
   "id": "af636753-c4de-485b-9828-d78f2620f99a",
   "metadata": {},
   "outputs": [
    {
     "name": "stdout",
     "output_type": "stream",
     "text": [
      " 23 67\n"
     ]
    },
    {
     "name": "stdout",
     "output_type": "stream",
     "text": [
      "dien tich con lai: 1125.73\n"
     ]
    }
   ],
   "source": [
    "#Bai 2: Một khu đất hình chữ nhật có chiều rộng a, chiều dài b. Người ra xây một khu vui chơi hình tròn tại vị trí trung tâm khu đất như hình vẽ. Nhập vào a, b.\n",
    "# Hãy tính phần diện tích còn để trồng cây xung quanh là bao nhiêu.\n",
    "#     Biết pi = 3.14, lấy kết quả đến 2 chữ số phần thập phân.\n",
    "\n",
    "a, b = map(float, input().split())\n",
    "pi = 3.14\n",
    "total_area = a*b\n",
    "play_area = a*a*pi/4\n",
    "print(f'dien tich con lai: {total_area - play_area:.2f}')\n"
   ]
  },
  {
   "cell_type": "code",
   "execution_count": 7,
   "id": "045678c5-b2d0-4ce3-86d1-494ed70088a7",
   "metadata": {},
   "outputs": [
    {
     "name": "stdout",
     "output_type": "stream",
     "text": [
      " a\n"
     ]
    },
    {
     "name": "stdout",
     "output_type": "stream",
     "text": [
      "A\n"
     ]
    }
   ],
   "source": [
    "# Bài 3: Viết chương trình nhập vào một “kí tự” c, nếu nó là chữ hoa thì in ra chữ thường tương ứng và\n",
    "# ngược lại nếu nó là chữ thường thì in ra chữ hoa tương ứng của nó.\n",
    "#     (xem trước cấu trúc lựa chọn: if….else, ma)\n",
    "\n",
    "s = input()\n",
    "if s.islower():\n",
    "    s = s.upper()\n",
    "elif s.isupper():\n",
    "    s = s.lower()\n",
    "print(s)"
   ]
  },
  {
   "cell_type": "code",
   "execution_count": 1,
   "id": "b2d74bf7-8c35-4c62-a904-8c77c4f689f7",
   "metadata": {},
   "outputs": [
    {
     "name": "stdout",
     "output_type": "stream",
     "text": [
      " d\n"
     ]
    },
    {
     "name": "stdout",
     "output_type": "stream",
     "text": [
      "d la ki tu alphabet\n"
     ]
    }
   ],
   "source": [
    "# Bài 4: Viết chương trình nhập vào một “kí tự”, Kiểm tra xem c có phải là kí tự chữ cái không (hoa hoặc thường). \n",
    "# Nếu đúng thì in ra “{c} là kí tu alphabet”, nếu sai in ra “{c} không phải là kí tự alphabet.\n",
    "\n",
    "s = input()\n",
    "if s.isalpha():\n",
    "    print(f'{s} la ki tu alphabet')\n",
    "else:\n",
    "    print(f'{s} Khong phai la ki tu alphabet')"
   ]
  },
  {
   "cell_type": "code",
   "execution_count": 1,
   "id": "5fb1cfee-dd4f-45b2-a050-3326fca2a6e2",
   "metadata": {},
   "outputs": [
    {
     "name": "stdout",
     "output_type": "stream",
     "text": [
      " s\n"
     ]
    },
    {
     "ename": "AssertionError",
     "evalue": "khong phai ki tu HOA",
     "output_type": "error",
     "traceback": [
      "\u001b[31m---------------------------------------------------------------------------\u001b[39m",
      "\u001b[31mAssertionError\u001b[39m                            Traceback (most recent call last)",
      "\u001b[36mCell\u001b[39m\u001b[36m \u001b[39m\u001b[32mIn[1]\u001b[39m\u001b[32m, line 2\u001b[39m\n\u001b[32m      1\u001b[39m s = \u001b[38;5;28minput\u001b[39m()\n\u001b[32m----> \u001b[39m\u001b[32m2\u001b[39m \u001b[38;5;28;01massert\u001b[39;00m (\u001b[38;5;28mlen\u001b[39m(s) == \u001b[32m1\u001b[39m \u001b[38;5;129;01mand\u001b[39;00m s.isupper()), \u001b[33m\"\u001b[39m\u001b[33mkhong phai ki tu HOA\u001b[39m\u001b[33m\"\u001b[39m\n\u001b[32m      3\u001b[39m t = \u001b[38;5;28mchr\u001b[39m(\u001b[38;5;28mord\u001b[39m(s) + \u001b[32m32\u001b[39m)\n\u001b[32m      4\u001b[39m \u001b[38;5;28mprint\u001b[39m(t)\n",
      "\u001b[31mAssertionError\u001b[39m: khong phai ki tu HOA"
     ]
    }
   ],
   "source": [
    "s = input()\n",
    "assert (len(s) == 1 and s.isupper()), \"khong phai ki tu HOA\"\n",
    "t = chr(ord(s) + 32)\n",
    "print(t)"
   ]
  },
  {
   "cell_type": "code",
   "execution_count": 3,
   "id": "adec6183-2ad8-419e-af20-35aa24269612",
   "metadata": {},
   "outputs": [
    {
     "name": "stdout",
     "output_type": "stream",
     "text": [
      " toidatimthaychanlycuocsong\n"
     ]
    },
    {
     "name": "stdout",
     "output_type": "stream",
     "text": [
      "a\n"
     ]
    }
   ],
   "source": [
    "s = input()\n",
    "print (s[4])"
   ]
  },
  {
   "cell_type": "code",
   "execution_count": 3,
   "id": "c3e22697-4224-4643-8b46-5774146e5b83",
   "metadata": {},
   "outputs": [
    {
     "name": "stdout",
     "output_type": "stream",
     "text": [
      " 1234312\n"
     ]
    },
    {
     "name": "stdout",
     "output_type": "stream",
     "text": [
      "False\n"
     ]
    }
   ],
   "source": [
    "#So doi xung:\n",
    "a = int(input())\n",
    "a_converse = 0\n",
    "a_copy = a\n",
    "while a_copy > 0:\n",
    "    a_converse = a_converse*10 + (a_copy%10)\n",
    "    a_copy //= 10\n",
    "print(a == a_converse)\n",
    "\n"
   ]
  }
 ],
 "metadata": {
  "kernelspec": {
   "display_name": "Python 3",
   "language": "python",
   "name": "python3"
  },
  "language_info": {
   "codemirror_mode": {
    "name": "ipython",
    "version": 3
   },
   "file_extension": ".py",
   "mimetype": "text/x-python",
   "name": "python",
   "nbconvert_exporter": "python",
   "pygments_lexer": "ipython3",
   "version": "3.11.9"
  }
 },
 "nbformat": 4,
 "nbformat_minor": 5
}
