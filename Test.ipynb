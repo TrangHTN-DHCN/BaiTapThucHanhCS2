{
 "cells": [
  {
   "cell_type": "code",
   "execution_count": null,
   "id": "25eb5661-397b-4530-ae17-2f0b0ba72d44",
   "metadata": {},
   "outputs": [],
   "source": [
    "#Nối 2 file F1, F2 thành file F3\n",
    "#in ca 3 file ra màn hình\n"
   ]
  }
 ],
 "metadata": {
  "kernelspec": {
   "display_name": "Python 3 (ipykernel)",
   "language": "python",
   "name": "python3"
  },
  "language_info": {
   "codemirror_mode": {
    "name": "ipython",
    "version": 3
   },
   "file_extension": ".py",
   "mimetype": "text/x-python",
   "name": "python",
   "nbconvert_exporter": "python",
   "pygments_lexer": "ipython3",
   "version": "3.11.9"
  }
 },
 "nbformat": 4,
 "nbformat_minor": 5
}
