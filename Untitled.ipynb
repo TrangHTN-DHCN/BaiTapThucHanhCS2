{
 "cells": [
  {
   "cell_type": "code",
   "execution_count": 4,
   "id": "7590bbe4-9a97-4cd7-938a-7309ee2d98a3",
   "metadata": {},
   "outputs": [
    {
     "name": "stdin",
     "output_type": "stream",
     "text": [
      " -12\n"
     ]
    },
    {
     "name": "stdout",
     "output_type": "stream",
     "text": [
      "Moi nhap lai!\n"
     ]
    },
    {
     "name": "stdin",
     "output_type": "stream",
     "text": [
      " -23\n"
     ]
    },
    {
     "name": "stdout",
     "output_type": "stream",
     "text": [
      "Moi nhap lai!\n"
     ]
    },
    {
     "name": "stdin",
     "output_type": "stream",
     "text": [
      " -45\n"
     ]
    },
    {
     "name": "stdout",
     "output_type": "stream",
     "text": [
      "Moi nhap lai!\n"
     ]
    },
    {
     "name": "stdin",
     "output_type": "stream",
     "text": [
      " e\n"
     ]
    },
    {
     "name": "stdout",
     "output_type": "stream",
     "text": [
      "Moi nhap mot so nguyen duong\n"
     ]
    },
    {
     "name": "stdin",
     "output_type": "stream",
     "text": [
      " 13\n"
     ]
    },
    {
     "name": "stdout",
     "output_type": "stream",
     "text": [
      "La so nguyen to\n"
     ]
    }
   ],
   "source": [
    "from math import isqrt\n",
    "\n",
    "while True:\n",
    "    try:\n",
    "        n = int(input())\n",
    "        if(n > 0):\n",
    "            for i in range(2, isqrt(n)+1):\n",
    "                if(n % i == 0):\n",
    "                    print('Khong phai so nguyen to')\n",
    "                    break\n",
    "            else: \n",
    "                print('La so nguyen to')\n",
    "            break\n",
    "        else:\n",
    "            print(\"Ban vua nhap mot so nguyen am, Moi nhap lai!\")\n",
    "            continue\n",
    "    except ValueError:\n",
    "        print('Ban vua nhap khong phai mot so nguyen, Moi nhap lai!')\n",
    "            "
   ]
  },
  {
   "cell_type": "code",
   "execution_count": null,
   "id": "a027f03a-af5c-4f9d-ac15-d9dc89277a6a",
   "metadata": {},
   "outputs": [],
   "source": []
  },
  {
   "cell_type": "code",
   "execution_count": null,
   "id": "8e8a262c-2f76-42e7-9314-bd263cf16fe0",
   "metadata": {},
   "outputs": [],
   "source": []
  }
 ],
 "metadata": {
  "kernelspec": {
   "display_name": "Python 3 (ipykernel)",
   "language": "python",
   "name": "python3"
  },
  "language_info": {
   "codemirror_mode": {
    "name": "ipython",
    "version": 3
   },
   "file_extension": ".py",
   "mimetype": "text/x-python",
   "name": "python",
   "nbconvert_exporter": "python",
   "pygments_lexer": "ipython3",
   "version": "3.11.9"
  }
 },
 "nbformat": 4,
 "nbformat_minor": 5
}
