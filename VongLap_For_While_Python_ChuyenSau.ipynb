{
 "cells": [
  {
   "cell_type": "markdown",
   "id": "50b3d826",
   "metadata": {},
   "source": [
    "\n",
    "# 🐍 Vòng lặp `for` và `while` trong Python\n",
    "\n",
    "Trong lập trình, **vòng lặp (loop)** giúp ta **lặp lại một khối lệnh** nhiều lần — cho đến khi một điều kiện dừng được thoả mãn.\n",
    "\n",
    "Trong Python có **hai loại vòng lặp chính**:\n",
    "- 🔁 `for` loop — dùng khi biết **trước số lần lặp**\n",
    "- 🔄 `while` loop — dùng khi chỉ biết **điều kiện lặp**\n"
   ]
  },
  {
   "cell_type": "markdown",
   "id": "3ee7c356",
   "metadata": {},
   "source": [
    "\n",
    "## ⚙️ Vòng lặp `for` cơ bản\n",
    "\n",
    "Cú pháp:\n",
    "\n",
    "```python\n",
    "for biến in dãy:\n",
    "    # khối lệnh\n",
    "```\n",
    "\n",
    "Ví dụ:\n"
   ]
  },
  {
   "cell_type": "code",
   "execution_count": null,
   "id": "3cad37bd",
   "metadata": {},
   "outputs": [],
   "source": [
    "\n",
    "for i in range(5):\n",
    "    print(\"Lần lặp thứ:\", i)\n"
   ]
  },
  {
   "cell_type": "markdown",
   "id": "9959060f",
   "metadata": {},
   "source": [
    "\n",
    "📘 Hàm `range(n)` sinh ra dãy số từ `0` đến `n-1`.\n",
    "\n",
    "### Ví dụ khác:\n"
   ]
  },
  {
   "cell_type": "code",
   "execution_count": null,
   "id": "76070549",
   "metadata": {},
   "outputs": [],
   "source": [
    "\n",
    "for x in [2, 4, 6, 8]:\n",
    "    print(\"Giá trị:\", x)\n"
   ]
  },
  {
   "cell_type": "markdown",
   "id": "dcf6bee1",
   "metadata": {},
   "source": [
    "\n",
    "## 🔂 Vòng lặp `for` lồng nhau\n",
    "\n",
    "Một vòng lặp có thể chứa **vòng lặp khác bên trong**.\n"
   ]
  },
  {
   "cell_type": "code",
   "execution_count": null,
   "id": "854615f3",
   "metadata": {},
   "outputs": [],
   "source": [
    "\n",
    "for i in range(1, 4):\n",
    "    for j in range(1, 4):\n",
    "        print(f\"({i}, {j})\", end=\" \")\n",
    "    print()\n"
   ]
  },
  {
   "cell_type": "markdown",
   "id": "bbb3cf47",
   "metadata": {},
   "source": [
    "\n",
    "💡 Ứng dụng: Vẽ bảng nhân\n"
   ]
  },
  {
   "cell_type": "code",
   "execution_count": null,
   "id": "71657d08",
   "metadata": {},
   "outputs": [],
   "source": [
    "\n",
    "for i in range(1, 6):\n",
    "    for j in range(1, 6):\n",
    "        print(f\"{i*j:2}\", end=\" \")\n",
    "    print()\n"
   ]
  },
  {
   "cell_type": "markdown",
   "id": "35ab00d3",
   "metadata": {},
   "source": [
    "\n",
    "## ⏳ Vòng lặp `while`\n",
    "\n",
    "Cú pháp:\n",
    "\n",
    "```python\n",
    "while điều_kiện:\n",
    "    # khối lệnh\n",
    "```\n",
    "\n",
    "Chương trình sẽ **lặp lại khối lệnh** cho đến khi `điều_kiện` là `False`.\n"
   ]
  },
  {
   "cell_type": "code",
   "execution_count": null,
   "id": "a1f5992d",
   "metadata": {},
   "outputs": [],
   "source": [
    "\n",
    "i = 0\n",
    "while i < 5:\n",
    "    print(\"i =\", i)\n",
    "    i += 1\n"
   ]
  },
  {
   "cell_type": "markdown",
   "id": "dafd2f42",
   "metadata": {},
   "source": [
    "\n",
    "## 🧱 Lệnh `break` và `continue` trong vòng lặp\n",
    "\n",
    "- `break`: Dừng vòng lặp ngay lập tức  \n",
    "- `continue`: Bỏ qua phần còn lại của vòng lặp và quay lại đầu vòng\n",
    "\n",
    "Ví dụ:\n"
   ]
  },
  {
   "cell_type": "code",
   "execution_count": null,
   "id": "cee4eb81",
   "metadata": {},
   "outputs": [],
   "source": [
    "\n",
    "i = 0\n",
    "while i < 10:\n",
    "    i += 1\n",
    "    if i == 3:\n",
    "        continue  # bỏ qua khi i = 3\n",
    "    if i == 8:\n",
    "        break     # dừng hẳn khi i = 8\n",
    "    print(i)\n"
   ]
  },
  {
   "cell_type": "markdown",
   "id": "dc39eb3d",
   "metadata": {},
   "source": [
    "\n",
    "## ⚖️ So sánh `for` và `while`\n",
    "\n",
    "| Tiêu chí | `for` | `while` |\n",
    "|-----------|--------|----------|\n",
    "| Biết trước số lần lặp | ✅ Có | ❌ Không nhất thiết |\n",
    "| Dễ gây vòng lặp vô hạn | ❌ Ít gặp | ⚠️ Dễ nếu quên cập nhật điều kiện |\n",
    "| Ứng dụng phổ biến | Lặp qua list, range | Lặp khi chờ điều kiện xảy ra |\n",
    "\n",
    "Ví dụ minh họa giống nhau:\n"
   ]
  },
  {
   "cell_type": "code",
   "execution_count": null,
   "id": "bce2627b",
   "metadata": {},
   "outputs": [],
   "source": [
    "\n",
    "# for loop\n",
    "for i in range(5):\n",
    "    print(i, end=\" \")\n",
    "print(\"\\n---\")\n",
    "\n",
    "# while loop tương đương\n",
    "i = 0\n",
    "while i < 5:\n",
    "    print(i, end=\" \")\n",
    "    i += 1\n"
   ]
  },
  {
   "cell_type": "markdown",
   "id": "918fe7da",
   "metadata": {},
   "source": [
    "\n",
    "## ⚠️ Các lỗi thường gặp với vòng lặp\n",
    "\n",
    "### ❌ Quên tăng biến đếm trong `while`\n",
    "```python\n",
    "i = 0\n",
    "while i < 5:\n",
    "    print(i)\n",
    "# Không có i += 1 → vòng lặp vô hạn!\n",
    "```\n",
    "\n",
    "### ❌ Sửa list trong khi đang lặp\n",
    "```python\n",
    "lst = [1,2,3]\n",
    "for x in lst:\n",
    "    lst.remove(x)  # Sai → gây kết quả khó đoán\n",
    "```\n"
   ]
  },
  {
   "cell_type": "markdown",
   "id": "8991018b",
   "metadata": {},
   "source": [
    "\n",
    "## 🧠 Bài tập thực hành\n",
    "\n",
    "1. In ra các số chẵn từ 1 đến 20.  \n",
    "2. Tính tổng các số từ 1 đến `n` (nhập từ bàn phím).  \n",
    "3. Dùng `while` để đếm ngược từ 10 về 1.  \n",
    "4. Viết chương trình đoán số (gợi ý: dùng `while` + `break`).  \n",
    "5. In ra tam giác sao:\n",
    "```\n",
    "*\n",
    "**\n",
    "***\n",
    "****\n",
    "```\n"
   ]
  },
  {
   "cell_type": "code",
   "execution_count": null,
   "id": "47ac2279",
   "metadata": {},
   "outputs": [],
   "source": [
    "\n",
    "# ✏️ Viết lời giải của bạn ở đây\n"
   ]
  },
  {
   "cell_type": "markdown",
   "id": "21789e8e",
   "metadata": {},
   "source": [
    "\n",
    "## 🚀 Mở rộng: `for` với `enumerate`, và `else` trong vòng lặp\n",
    "\n",
    "### `enumerate()` — vừa lấy **chỉ số**, vừa lấy **giá trị**\n"
   ]
  },
  {
   "cell_type": "code",
   "execution_count": null,
   "id": "6fd17298",
   "metadata": {},
   "outputs": [],
   "source": [
    "\n",
    "names = [\"An\", \"Bình\", \"Chi\"]\n",
    "for index, name in enumerate(names):\n",
    "    print(f\"{index}: {name}\")\n"
   ]
  },
  {
   "cell_type": "markdown",
   "id": "396055fb",
   "metadata": {},
   "source": [
    "\n",
    "### `for ... else`: chạy phần `else` nếu **vòng lặp không bị break**\n"
   ]
  },
  {
   "cell_type": "code",
   "execution_count": null,
   "id": "b23b1596-993c-48ee-95e7-10bb47978052",
   "metadata": {},
   "outputs": [],
   "source": [
    "for i in range(5):\n",
    "    print(i)\n",
    "else:\n",
    "    print(\"Hoàn tất vòng for bình thường\")"
   ]
  },
  {
   "cell_type": "code",
   "execution_count": null,
   "id": "0afe8880",
   "metadata": {},
   "outputs": [],
   "source": [
    "#KHÔNG hoàn tất for bình thường mà lại gặp break\n",
    "for num in range(5):\n",
    "    if num == 3:\n",
    "        break\n",
    "    print(num)\n",
    "else:\n",
    "    print(\"Kết thúc bình thường (không có break)\")\n"
   ]
  },
  {
   "cell_type": "markdown",
   "id": "4068cbf9",
   "metadata": {},
   "source": [
    "\n",
    "✅ **Tổng kết**:\n",
    "- Dùng `for` khi biết rõ dãy lặp.  \n",
    "- Dùng `while` khi cần chờ điều kiện.  \n",
    "- Kết hợp `break`, `continue`, `else` để kiểm soát linh hoạt.\n"
   ]
  },
  {
   "cell_type": "code",
   "execution_count": null,
   "id": "0a88ac44-cbd8-4405-aab2-604f18cf0f3d",
   "metadata": {},
   "outputs": [],
   "source": [
    "### CÁC Lỗi thường gặp:\n",
    "# Vòng lặp vô hạn\n",
    "while 1:\n",
    "    print('Type Ctrl-C to stop me!')\n",
    "    break"
   ]
  },
  {
   "cell_type": "code",
   "execution_count": null,
   "id": "8c519299-5c61-4aaf-8726-086907565c14",
   "metadata": {},
   "outputs": [],
   "source": []
  }
 ],
 "metadata": {
  "kernelspec": {
   "display_name": "Python 3 (ipykernel)",
   "language": "python",
   "name": "python3"
  },
  "language_info": {
   "codemirror_mode": {
    "name": "ipython",
    "version": 3
   },
   "file_extension": ".py",
   "mimetype": "text/x-python",
   "name": "python",
   "nbconvert_exporter": "python",
   "pygments_lexer": "ipython3",
   "version": "3.11.9"
  }
 },
 "nbformat": 4,
 "nbformat_minor": 5
}
